{
  "nbformat": 4,
  "nbformat_minor": 0,
  "metadata": {
    "colab": {
      "name": "GoogleVisionExample.ipynb",
      "provenance": [],
      "include_colab_link": true
    },
    "kernelspec": {
      "name": "python3",
      "display_name": "Python 3"
    }
  },
  "cells": [
    {
      "cell_type": "markdown",
      "metadata": {
        "id": "view-in-github",
        "colab_type": "text"
      },
      "source": [
        "<a href=\"https://colab.research.google.com/github/mvfolino68/google_vision/blob/master/GoogleVisionExample.ipynb\" target=\"_parent\"><img src=\"https://colab.research.google.com/assets/colab-badge.svg\" alt=\"Open In Colab\"/></a>"
      ]
    },
    {
      "cell_type": "code",
      "metadata": {
        "id": "SsWFLpHpPV_q",
        "colab_type": "code",
        "colab": {}
      },
      "source": [
        "# Setup Colab\n",
        "#first upload apikey\n",
        "!wget https://raw.githubusercontent.com/mvfolino68/google_vision/master/google_vision_api/google_vision_api.py\n",
        "# !wget https://raw.githubusercontent.com/mvfolino68/google_vision/master/sturdy-spanner-221114-891167b05110.json\n",
        "!pip install google.cloud.vision\n",
        "from google_vision_api import ImageToProcess"
      ],
      "execution_count": 0,
      "outputs": []
    },
    {
      "cell_type": "code",
      "metadata": {
        "id": "ChU0wKrfPZ_H",
        "colab_type": "code",
        "colab": {}
      },
      "source": [
        "IMAGE = 'https://upload.wikimedia.org/wikipedia/commons/f/fa/Passport_card.jpg'\n",
        "EMAIL = 'mfolino@mtb.com'\n",
        "image_url_obj = ImageToProcess(IMAGE, EMAIL)"
      ],
      "execution_count": 0,
      "outputs": []
    },
    {
      "cell_type": "code",
      "metadata": {
        "id": "tRYJC6-CPcw6",
        "colab_type": "code",
        "colab": {}
      },
      "source": [
        "image_url_obj.render_doc_text('output.jpeg')"
      ],
      "execution_count": 0,
      "outputs": []
    }
  ]
}