{
  "nbformat": 4,
  "nbformat_minor": 0,
  "metadata": {
    "colab": {
      "name": "GoogleVisionExample.ipynb",
      "provenance": [],
      "include_colab_link": true
    },
    "kernelspec": {
      "name": "python3",
      "display_name": "Python 3"
    }
  },
  "cells": [
    {
      "cell_type": "markdown",
      "metadata": {
        "id": "view-in-github",
        "colab_type": "text"
      },
      "source": [
        "<a href=\"https://colab.research.google.com/github/mvfolino68/google_vision/blob/master/GoogleVisionExample.ipynb\" target=\"_parent\"><img src=\"https://colab.research.google.com/assets/colab-badge.svg\" alt=\"Open In Colab\"/></a>"
      ]
    },
    {
      "cell_type": "code",
      "metadata": {
        "id": "SsWFLpHpPV_q",
        "colab_type": "code",
        "colab": {}
      },
      "source": [
        "# Setup Colab\n",
        "#first upload apikey\n",
        "!wget https://raw.githubusercontent.com/mvfolino68/google_vision/master/google_vision_api/google_vision_api.py\n",
        "!wget https://raw.githubusercontent.com/mvfolino68/google_vision/master/beefree-4wjl3m27e2d.html\n",
        "!pip install google.cloud.vision\n",
        "from google_vision_api import ImageToProcess"
      ],
      "execution_count": 0,
      "outputs": []
    },
    {
      "cell_type": "code",
      "metadata": {
        "id": "ChU0wKrfPZ_H",
        "colab_type": "code",
        "colab": {}
      },
      "source": [
        "###################################################################################################################################################\n",
        "#NYS License\n",
        "#https://townsquare.media/site/854/files/2019/04/ny-lic.png?w=980&q=75\n",
        "\n",
        "#Mayland License\n",
        "#https://www.washingtonpost.com/resizer/wleege0gkW6n_JGlhhjnQleSYCI=/1440x0/smart/arc-anglerfish-washpost-prod-washpost.s3.amazonaws.com/public/2P7IJ3BGCRAVVAYWAJHYXD3I5A.jpg\n",
        "\n",
        "#California License\n",
        "#https://s.hdnux.com/photos/70/31/77/14786535/8/920x920.jpg\n",
        "\n",
        "#Passport Card\n",
        "#https://upload.wikimedia.org/wikipedia/commons/f/fa/Passport_card.jpg\n",
        "\n",
        "#Vehicle Title\n",
        "#https://govbanknotes.files.wordpress.com/2015/02/serveimage.jpeg\n",
        "\n",
        "#US Passport\n",
        "#https://en.news-front.info/wp-content/uploads/2016/08/2-21.jpg\n",
        "###################################################################################################################################################\n",
        "\n",
        "\n",
        "#Viables to Change\n",
        "IMAGE = 'https://www.washingtonpost.com/resizer/wleege0gkW6n_JGlhhjnQleSYCI=/1440x0/smart/arc-anglerfish-washpost-prod-washpost.s3.amazonaws.com/public/2P7IJ3BGCRAVVAYWAJHYXD3I5A.jpg'\n",
        "EMAIL = 'mfolino@mtb.com'\n",
        "\n",
        "#Object\n",
        "image_url_obj = ImageToProcess(IMAGE, EMAIL)"
      ],
      "execution_count": 0,
      "outputs": []
    },
    {
      "cell_type": "code",
      "metadata": {
        "id": "tRYJC6-CPcw6",
        "colab_type": "code",
        "colab": {}
      },
      "source": [
        "image_url_obj.render_doc_text('output_jpeg.jpeg')"
      ],
      "execution_count": 0,
      "outputs": []
    },
    {
      "cell_type": "code",
      "metadata": {
        "id": "YQvKnApQvlIm",
        "colab_type": "code",
        "colab": {}
      },
      "source": [
        ""
      ],
      "execution_count": 0,
      "outputs": []
    }
  ]
}